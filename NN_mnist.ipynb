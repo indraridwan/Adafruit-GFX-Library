{
  "nbformat": 4,
  "nbformat_minor": 0,
  "metadata": {
    "colab": {
      "name": "NN_mnist.ipynb",
      "provenance": [],
      "collapsed_sections": [],
      "authorship_tag": "ABX9TyPY7RMlZ22uncQWUaDRZKJ3",
      "include_colab_link": true
    },
    "kernelspec": {
      "name": "python3",
      "display_name": "Python 3"
    },
    "language_info": {
      "name": "python"
    }
  },
  "cells": [
    {
      "cell_type": "markdown",
      "metadata": {
        "id": "view-in-github",
        "colab_type": "text"
      },
      "source": [
        "<a href=\"https://colab.research.google.com/github/indraridwan/Adafruit-GFX-Library/blob/master/NN_mnist.ipynb\" target=\"_parent\"><img src=\"https://colab.research.google.com/assets/colab-badge.svg\" alt=\"Open In Colab\"/></a>"
      ]
    },
    {
      "cell_type": "code",
      "metadata": {
        "id": "blWPj6DtFJ1Y"
      },
      "source": [
        "# -*- coding: utf-8 -*-\n",
        "\"\"\"\n",
        "Spyder Editor\n",
        "\n",
        "This is a temporary script file.\n",
        "\"\"\"\n",
        "from keras.datasets import mnist\n",
        "from keras import models\n",
        "from keras.utils import to_categorical\n",
        "import matplotlib.pyplot as plt\n",
        "import numpy as np\n",
        "from keras import layers"
      ],
      "execution_count": 8,
      "outputs": []
    },
    {
      "cell_type": "code",
      "metadata": {
        "id": "yoRUscdBFjW7"
      },
      "source": [
        "(train_images, train_labels), (test_images, test_labels) = mnist.load_data()\n",
        "\n",
        "network=models.Sequential()\n",
        "network.add(layers.Dense(512, activation='relu', input_shape=(28*28,)))\n",
        "network.add(layers.Dense(10, activation='softmax'))\n",
        "network.compile(optimizer='rmsprop', loss='categorical_crossentropy', metrics=['accuracy'])\n",
        "\n",
        "train_images=train_images.reshape((60000,28*28))\n",
        "train_images=train_images.astype('float32')/255                                 \n",
        "test_images=test_images.reshape((10000,28*28))\n",
        "test_images=test_images.astype('float32')/255                              \n",
        "train_labels=to_categorical(train_labels)\n",
        "test_labels=to_categorical(test_labels)    "
      ],
      "execution_count": 9,
      "outputs": []
    },
    {
      "cell_type": "code",
      "metadata": {
        "colab": {
          "base_uri": "https://localhost:8080/"
        },
        "id": "QRovyhE7FtHC",
        "outputId": "1973f391-5281-4b6a-d23a-cbdc143a53e5"
      },
      "source": [
        "history = network.fit(train_images, train_labels, epochs=16, batch_size=256, validation_data=(test_images,test_labels))\n",
        "\n",
        "acc = history.history['accuracy']\n",
        "val_acc = history.history['val_accuracy']\n",
        "loss = history.history['loss']\n",
        "val_loss = history.history['val_loss']\n",
        "\n",
        "epochs = range(len(acc))   "
      ],
      "execution_count": 10,
      "outputs": [
        {
          "output_type": "stream",
          "text": [
            "Epoch 1/16\n",
            "235/235 [==============================] - 4s 15ms/step - loss: 0.5249 - accuracy: 0.8459 - val_loss: 0.1884 - val_accuracy: 0.9408\n",
            "Epoch 2/16\n",
            "235/235 [==============================] - 3s 14ms/step - loss: 0.1428 - accuracy: 0.9590 - val_loss: 0.1379 - val_accuracy: 0.9579\n",
            "Epoch 3/16\n",
            "235/235 [==============================] - 3s 14ms/step - loss: 0.0873 - accuracy: 0.9743 - val_loss: 0.0960 - val_accuracy: 0.9695\n",
            "Epoch 4/16\n",
            "235/235 [==============================] - 3s 14ms/step - loss: 0.0613 - accuracy: 0.9822 - val_loss: 0.0727 - val_accuracy: 0.9780\n",
            "Epoch 5/16\n",
            "235/235 [==============================] - 3s 14ms/step - loss: 0.0463 - accuracy: 0.9865 - val_loss: 0.0698 - val_accuracy: 0.9780\n",
            "Epoch 6/16\n",
            "235/235 [==============================] - 3s 14ms/step - loss: 0.0347 - accuracy: 0.9902 - val_loss: 0.0694 - val_accuracy: 0.9781\n",
            "Epoch 7/16\n",
            "235/235 [==============================] - 3s 14ms/step - loss: 0.0267 - accuracy: 0.9926 - val_loss: 0.0633 - val_accuracy: 0.9813\n",
            "Epoch 8/16\n",
            "235/235 [==============================] - 3s 14ms/step - loss: 0.0218 - accuracy: 0.9940 - val_loss: 0.0689 - val_accuracy: 0.9798\n",
            "Epoch 9/16\n",
            "235/235 [==============================] - 3s 14ms/step - loss: 0.0165 - accuracy: 0.9959 - val_loss: 0.0663 - val_accuracy: 0.9812\n",
            "Epoch 10/16\n",
            "235/235 [==============================] - 3s 14ms/step - loss: 0.0114 - accuracy: 0.9973 - val_loss: 0.0633 - val_accuracy: 0.9817\n",
            "Epoch 11/16\n",
            "235/235 [==============================] - 3s 14ms/step - loss: 0.0097 - accuracy: 0.9978 - val_loss: 0.0636 - val_accuracy: 0.9821\n",
            "Epoch 12/16\n",
            "235/235 [==============================] - 3s 14ms/step - loss: 0.0075 - accuracy: 0.9981 - val_loss: 0.0638 - val_accuracy: 0.9827\n",
            "Epoch 13/16\n",
            "235/235 [==============================] - 3s 14ms/step - loss: 0.0056 - accuracy: 0.9988 - val_loss: 0.0708 - val_accuracy: 0.9809\n",
            "Epoch 14/16\n",
            "235/235 [==============================] - 3s 14ms/step - loss: 0.0048 - accuracy: 0.9991 - val_loss: 0.0822 - val_accuracy: 0.9790\n",
            "Epoch 15/16\n",
            "235/235 [==============================] - 3s 14ms/step - loss: 0.0038 - accuracy: 0.9992 - val_loss: 0.0785 - val_accuracy: 0.9821\n",
            "Epoch 16/16\n",
            "235/235 [==============================] - 3s 14ms/step - loss: 0.0027 - accuracy: 0.9996 - val_loss: 0.0726 - val_accuracy: 0.9828\n"
          ],
          "name": "stdout"
        }
      ]
    },
    {
      "cell_type": "code",
      "metadata": {
        "colab": {
          "base_uri": "https://localhost:8080/",
          "height": 545
        },
        "id": "g-XXC47qGCzX",
        "outputId": "a677f317-d32b-48fd-99c7-24a79342218a"
      },
      "source": [
        "plt.plot(epochs, acc, 'bo', label='Training acc')  \n",
        "plt.plot(epochs, val_acc, 'b', label='Validation acc')\n",
        "plt.title('Training and Validation acc')\n",
        "plt.legend()\n",
        "\n",
        "plt.figure()\n",
        "\n",
        "plt.plot(epochs, loss, 'bo', label='Training loss')  \n",
        "plt.plot(epochs, val_loss, 'b', label='Validation loss')\n",
        "plt.title('Training and Validation loss')\n",
        "plt.legend()\n",
        "\n",
        "plt.show()"
      ],
      "execution_count": 12,
      "outputs": [
        {
          "output_type": "display_data",
          "data": {
            "image/png": "[encoded data removed]",
            "text/plain": [
              "<Figure size 432x288 with 1 Axes>"
            ]
          },
          "metadata": {
            "tags": [],
            "needs_background": "light"
          }
        },
        {
          "output_type": "display_data",
          "data": {
            "image/png": "[encoded data removed]",
            "text/plain": [
              "<Figure size 432x288 with 1 Axes>"
            ]
          },
          "metadata": {
            "tags": [],
            "needs_background": "light"
          }
        }
      ]
    },
    {
      "cell_type": "code",
      "metadata": {
        "id": "_v3jgOZhGJiX"
      },
      "source": [
        "#save model network.save('try.h5')\n",
        "#view model network.summary()\n",
        "#test whole network.predict(test_images)\n",
        "#test single test_1=test_images[8];test_1T=np.\n",
        "#\n",
        "#predict prediction=network.predict(np.resize(test_images[8],(1,784)))"
      ],
      "execution_count": null,
      "outputs": []
    }
  ]
}