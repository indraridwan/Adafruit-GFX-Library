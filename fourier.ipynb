{
  "nbformat": 4,
  "nbformat_minor": 0,
  "metadata": {
    "colab": {
      "name": "fourier.ipynb",
      "provenance": [],
      "collapsed_sections": [],
      "authorship_tag": "ABX9TyNSUiablkU3XkqD0WsWGAjZ",
      "include_colab_link": true
    },
    "kernelspec": {
      "name": "python3",
      "display_name": "Python 3"
    }
  },
  "cells": [
    {
      "cell_type": "markdown",
      "metadata": {
        "id": "view-in-github",
        "colab_type": "text"
      },
      "source": [
        "<a href=\"https://colab.research.google.com/github/indraridwan/Adafruit-GFX-Library/blob/master/fourier.ipynb\" target=\"_parent\"><img src=\"https://colab.research.google.com/assets/colab-badge.svg\" alt=\"Open In Colab\"/></a>"
      ]
    },
    {
      "cell_type": "code",
      "metadata": {
        "colab": {
          "base_uri": "https://localhost:8080/"
        },
        "id": "q8O80u13XxMN",
        "outputId": "7eb73a25-1dc3-41da-ba19-161971ace1e6"
      },
      "source": [
        "print('Mokhamad Indra Ridwan');"
      ],
      "execution_count": 18,
      "outputs": [
        {
          "output_type": "stream",
          "text": [
            "Mokhamad Indra Ridwan\n"
          ],
          "name": "stdout"
        }
      ]
    },
    {
      "cell_type": "code",
      "metadata": {
        "colab": {
          "base_uri": "https://localhost:8080/"
        },
        "id": "ytSwAC4Sc0bQ",
        "outputId": "afb1bd33-e91e-4c37-c961-da5b0c9112b5"
      },
      "source": [
        "from math import cos,pi\r\n",
        "import matplotlib.pyplot as plt\r\n",
        "import numpy as np\r\n",
        "import decimal\r\n",
        "\r\n",
        "x = np.linspace(0,0.02,200)\r\n",
        "print('fourier')\r\n",
        "# the function, which is y = f(x)\r\n",
        "f=float(input('frequency is'));\r\n",
        "p=pi\r\n",
        "W=(2*p*f*x)\r\n",
        "#Amp1\r\n",
        "A=float(input('Amplitude 1st orde'))\r\n",
        "B=float(input('Amplitude 3nd orde'))\r\n",
        "C=float(input('Amplitude 5nd orde'))\r\n",
        "D=float(input('Amplitude 7nd orde'))\r\n",
        "E=float(input('Amplitude 9nd orde'))\r\n",
        "F=float(input('Amplitude 11nd orde'))\r\n",
        "G=float(input('Amplitude 13nd orde'))\r\n",
        "H=float(input('Amplitude 15nd orde'))\r\n",
        "I=float(input('Amplitude 17nd orde'))\r\n",
        "J=float(input('Amplitude 19nd orde'))\r\n",
        "K=float(input('Amplitude 21nd orde'))\r\n",
        "#phase1\r\n",
        "AA=float(input('Phase 1st orde'))\r\n",
        "BB=float(input('Phase 3nd orde'))\r\n",
        "CC=float(input('Phase 5nd orde'))\r\n",
        "DD=float(input('Phase 7nd orde'))\r\n",
        "EE=float(input('Phase  9nd orde'))\r\n",
        "FF=float(input('Phase 11nd orde'))\r\n",
        "GG=float(input('Phase 13nd orde'))\r\n",
        "HH=float(input('Phase 15nd orde'))\r\n",
        "II=float(input('Phase 17nd orde'))\r\n",
        "JJ=float(input('Phase 19nd orde'))\r\n",
        "KK=float(input('Phase 21nd orde'))\r\n",
        "#Amp\r\n",
        "A1=180/AA\r\n",
        "B1=180/BB\r\n",
        "C1=180/CC\r\n",
        "D1=180/DD\r\n",
        "E1=180/EE\r\n",
        "F1=180/FF\r\n",
        "G1=180/GG\r\n",
        "H1=180/HH\r\n",
        "I1=180/II\r\n",
        "J1=180/JJ\r\n",
        "K1=180/KK\r\n",
        "#part1\r\n",
        "a=np.cos(W-(A1))\r\n",
        "b=np.cos(3*W-(B1))\r\n",
        "c=np.cos(5*W-(C1))\r\n",
        "d=np.cos(7*W-(D1))\r\n",
        "e=np.cos(9*W-(E1))\r\n",
        "f=np.cos(11*W-(F1))\r\n",
        "g=np.cos(13*W-(G1))\r\n",
        "h=np.cos(15*W-(H1))\r\n",
        "i=np.cos(17*W-(I1))\r\n",
        "j=np.cos(19*W-(J1))\r\n",
        "k=np.cos(21*W-(K1))\r\n",
        "#formula1\r\n",
        "y =(A*a)+(B*b)+(C*c)+(D*d)+(E*e)+(F*f)+(G*g)+(H*h)+(I*i)+(J*j)+(K*k)\r\n",
        "# setting the axes at the centre\r\n",
        "fig = plt.figure()\r\n",
        "ax = fig.add_subplot(1, 1, 1)\r\n",
        "ax.spines['left'].set_position('zero')\r\n",
        "ax.spines['bottom'].set_position('zero')\r\n",
        "ax.spines['top'].set_position('zero')\r\n",
        "ax.spines['right'].set_position('zero')\r\n",
        "ax.spines['right'].set_color('black')\r\n",
        "ax.spines['top'].set_color('black')\r\n",
        "ax.spines['left'].set_color('black')\r\n",
        "ax.spines['bottom'].set_color('black')\r\n",
        "ax.xaxis.set_ticks_position('bottom')\r\n",
        "ax.yaxis.set_ticks_position('left')\r\n",
        "# plot the function\r\n",
        "plt.plot(x,z ,'r')\r\n",
        "plt.plot(x,y ,'r')\r\n",
        "plt.grid(True)\r\n",
        "plt.xlabel('Time')\r\n",
        "plt.ylabel('Amplitude')\r\n",
        "plt.title('FOURIER')\r\n",
        "plt.legend('V')\r\n",
        "# show the plot\r\n",
        "plt.show()\r\n"
      ],
      "execution_count": null,
      "outputs": [
        {
          "output_type": "stream",
          "text": [
            "fourier\n"
          ],
          "name": "stdout"
        }
      ]
    }
  ]
}